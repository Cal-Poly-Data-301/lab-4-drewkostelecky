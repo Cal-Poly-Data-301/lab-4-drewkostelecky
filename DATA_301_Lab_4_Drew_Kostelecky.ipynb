{
  "nbformat": 4,
  "nbformat_minor": 0,
  "metadata": {
    "kernelspec": {
      "display_name": "Python 3",
      "language": "python",
      "name": "python3"
    },
    "language_info": {
      "codemirror_mode": {
        "name": "ipython",
        "version": 3
      },
      "file_extension": ".py",
      "mimetype": "text/x-python",
      "name": "python",
      "nbconvert_exporter": "python",
      "pygments_lexer": "ipython3",
      "version": "3.7.1"
    },
    "colab": {
      "provenance": [],
      "include_colab_link": true
    }
  },
  "cells": [
    {
      "cell_type": "markdown",
      "metadata": {
        "id": "view-in-github",
        "colab_type": "text"
      },
      "source": [
        "<a href=\"https://colab.research.google.com/github/drewkostelecky/lab-4-drewkostelecky/blob/main/DATA_301_Lab_4_Drew_Kostelecky.ipynb\" target=\"_parent\"><img src=\"https://colab.research.google.com/assets/colab-badge.svg\" alt=\"Open In Colab\"/></a>"
      ]
    },
    {
      "cell_type": "markdown",
      "metadata": {
        "id": "GWSNdW_jY8DY"
      },
      "source": [
        "# Machine Learning for Beer\n",
        "\n",
        "Your goal is to train a model to predict the bitterness of a beer (in International Bittering Units, or IBU), given features about the beer. You can acquire the data in two places:\n",
        "\n",
        "- on [Kaggle](https://www.kaggle.com/c/beer2020/data) \n",
        "- on [Github](https://github.com/dlsun/pods/tree/master/data/beer) (https://dlsun.github.io/pods/data/beer/beer_train.csv and https://dlsun.github.io/pods/data/beer/beer_test.csv )\n",
        "\n",
        "A description of the variables is available [here](https://www.kaggle.com/c/beer2020/data).\n",
        "\n",
        "\n",
        "We would like to predict **ibu** using a $20$-nearest neighbors model.\n",
        "\n",
        "There are three features that have to do with the physical properties of the beer:  **abv**, **srm**, **original gravity**\n",
        "\n",
        "There are two \"cultural\" features that have to do with how/when the beer is traditionally served: **glass**, **available**\n",
        "\n",
        "Consider predicting **ibu** from \n",
        "(a) Only the physical features\n",
        "(b) Only the cultural features\n",
        "(c) All five features"
      ]
    },
    {
      "cell_type": "code",
      "source": [
        "import pandas as pd\n",
        "data_dir = \"https://dlsun.github.io/pods/data/beer/\"\n",
        "beer_train = pd.read_csv(data_dir + \"beer_train.csv\")\n",
        "beer_train[\"srm_quant\"] = beer_train[\"srm\"].map(lambda x: 41 if x == \"Over 40\" else int(x))\n",
        "beer_train"
      ],
      "metadata": {
        "colab": {
          "base_uri": "https://localhost:8080/",
          "height": 589
        },
        "id": "lQ5QMFfq91Pa",
        "outputId": "26f16bd9-e813-4c9e-e112-e578ed8cedcd"
      },
      "execution_count": 9,
      "outputs": [
        {
          "output_type": "execute_result",
          "data": {
            "text/plain": [
              "        id   abv                                        available  \\\n",
              "0        0   8.2  Available at the same time of year, every year.   \n",
              "1        1   5.7  Available at the same time of year, every year.   \n",
              "2        2   5.8  Available at the same time of year, every year.   \n",
              "3        3   5.5           Available year round as a staple beer.   \n",
              "4        4   4.8           Available year round as a staple beer.   \n",
              "...    ...   ...                                              ...   \n",
              "5995  5995   5.5           Available year round as a staple beer.   \n",
              "5996  5996  11.0  Available at the same time of year, every year.   \n",
              "5997  5997   5.2           Available year round as a staple beer.   \n",
              "5998  5998   6.2                            Limited availability.   \n",
              "5999  5999   5.1           Available year round as a staple beer.   \n",
              "\n",
              "                                            description glass   ibu isOrganic  \\\n",
              "0     A Belgian-Abbey-Style Tripel that is big in al...   NaN  31.0         N   \n",
              "1     Covert Hops is a crafty ale. Its stealthy dark...  Pint  45.0         N   \n",
              "2     This is a traditional German-style Marzen char...   Mug  25.0         N   \n",
              "3     A West Coast-Style Pale Ale balancing plenty o...  Pint  55.0         N   \n",
              "4     This Bombshell has a tantalizing crisp and cle...  Pint  11.4         N   \n",
              "...                                                 ...   ...   ...       ...   \n",
              "5995  Taking its cues from “Three Threads”, a barten...  Pint  33.0         N   \n",
              "5996  Our barley wine is what would be considered an...   NaN  30.0         N   \n",
              "5997  Our version of a west coast pale ale pushes th...  Pint  45.0         N   \n",
              "5998  Aquarius White IPA combines the phenolic and e...   NaN  50.0         N   \n",
              "5999                                                NaN   NaN  23.0         N   \n",
              "\n",
              "                        name  originalGravity      srm  srm_quant  \n",
              "0            LoonyToonTripel            1.070        8          8  \n",
              "1                Covert Hops            1.056       35         35  \n",
              "2                Oktoberfest            1.048       10         10  \n",
              "3                   Pale Ale            1.044        5          5  \n",
              "4     Head Turner Blonde Ale            1.045        3          3  \n",
              "...                      ...              ...      ...        ...  \n",
              "5995        Mayflower Porter            1.040  Over 40         41  \n",
              "5996             Barbieswine            1.085       20         20  \n",
              "5997         Canuck Pale Ale            1.044        8          8  \n",
              "5998                Aquarius            1.044        2          2  \n",
              "5999               Amber Ale            1.048       15         15  \n",
              "\n",
              "[6000 rows x 11 columns]"
            ],
            "text/html": [
              "\n",
              "  <div id=\"df-9d58c848-b23f-4645-a380-b0cd7f1a2e52\">\n",
              "    <div class=\"colab-df-container\">\n",
              "      <div>\n",
              "<style scoped>\n",
              "    .dataframe tbody tr th:only-of-type {\n",
              "        vertical-align: middle;\n",
              "    }\n",
              "\n",
              "    .dataframe tbody tr th {\n",
              "        vertical-align: top;\n",
              "    }\n",
              "\n",
              "    .dataframe thead th {\n",
              "        text-align: right;\n",
              "    }\n",
              "</style>\n",
              "<table border=\"1\" class=\"dataframe\">\n",
              "  <thead>\n",
              "    <tr style=\"text-align: right;\">\n",
              "      <th></th>\n",
              "      <th>id</th>\n",
              "      <th>abv</th>\n",
              "      <th>available</th>\n",
              "      <th>description</th>\n",
              "      <th>glass</th>\n",
              "      <th>ibu</th>\n",
              "      <th>isOrganic</th>\n",
              "      <th>name</th>\n",
              "      <th>originalGravity</th>\n",
              "      <th>srm</th>\n",
              "      <th>srm_quant</th>\n",
              "    </tr>\n",
              "  </thead>\n",
              "  <tbody>\n",
              "    <tr>\n",
              "      <th>0</th>\n",
              "      <td>0</td>\n",
              "      <td>8.2</td>\n",
              "      <td>Available at the same time of year, every year.</td>\n",
              "      <td>A Belgian-Abbey-Style Tripel that is big in al...</td>\n",
              "      <td>NaN</td>\n",
              "      <td>31.0</td>\n",
              "      <td>N</td>\n",
              "      <td>LoonyToonTripel</td>\n",
              "      <td>1.070</td>\n",
              "      <td>8</td>\n",
              "      <td>8</td>\n",
              "    </tr>\n",
              "    <tr>\n",
              "      <th>1</th>\n",
              "      <td>1</td>\n",
              "      <td>5.7</td>\n",
              "      <td>Available at the same time of year, every year.</td>\n",
              "      <td>Covert Hops is a crafty ale. Its stealthy dark...</td>\n",
              "      <td>Pint</td>\n",
              "      <td>45.0</td>\n",
              "      <td>N</td>\n",
              "      <td>Covert Hops</td>\n",
              "      <td>1.056</td>\n",
              "      <td>35</td>\n",
              "      <td>35</td>\n",
              "    </tr>\n",
              "    <tr>\n",
              "      <th>2</th>\n",
              "      <td>2</td>\n",
              "      <td>5.8</td>\n",
              "      <td>Available at the same time of year, every year.</td>\n",
              "      <td>This is a traditional German-style Marzen char...</td>\n",
              "      <td>Mug</td>\n",
              "      <td>25.0</td>\n",
              "      <td>N</td>\n",
              "      <td>Oktoberfest</td>\n",
              "      <td>1.048</td>\n",
              "      <td>10</td>\n",
              "      <td>10</td>\n",
              "    </tr>\n",
              "    <tr>\n",
              "      <th>3</th>\n",
              "      <td>3</td>\n",
              "      <td>5.5</td>\n",
              "      <td>Available year round as a staple beer.</td>\n",
              "      <td>A West Coast-Style Pale Ale balancing plenty o...</td>\n",
              "      <td>Pint</td>\n",
              "      <td>55.0</td>\n",
              "      <td>N</td>\n",
              "      <td>Pale Ale</td>\n",
              "      <td>1.044</td>\n",
              "      <td>5</td>\n",
              "      <td>5</td>\n",
              "    </tr>\n",
              "    <tr>\n",
              "      <th>4</th>\n",
              "      <td>4</td>\n",
              "      <td>4.8</td>\n",
              "      <td>Available year round as a staple beer.</td>\n",
              "      <td>This Bombshell has a tantalizing crisp and cle...</td>\n",
              "      <td>Pint</td>\n",
              "      <td>11.4</td>\n",
              "      <td>N</td>\n",
              "      <td>Head Turner Blonde Ale</td>\n",
              "      <td>1.045</td>\n",
              "      <td>3</td>\n",
              "      <td>3</td>\n",
              "    </tr>\n",
              "    <tr>\n",
              "      <th>...</th>\n",
              "      <td>...</td>\n",
              "      <td>...</td>\n",
              "      <td>...</td>\n",
              "      <td>...</td>\n",
              "      <td>...</td>\n",
              "      <td>...</td>\n",
              "      <td>...</td>\n",
              "      <td>...</td>\n",
              "      <td>...</td>\n",
              "      <td>...</td>\n",
              "      <td>...</td>\n",
              "    </tr>\n",
              "    <tr>\n",
              "      <th>5995</th>\n",
              "      <td>5995</td>\n",
              "      <td>5.5</td>\n",
              "      <td>Available year round as a staple beer.</td>\n",
              "      <td>Taking its cues from “Three Threads”, a barten...</td>\n",
              "      <td>Pint</td>\n",
              "      <td>33.0</td>\n",
              "      <td>N</td>\n",
              "      <td>Mayflower Porter</td>\n",
              "      <td>1.040</td>\n",
              "      <td>Over 40</td>\n",
              "      <td>41</td>\n",
              "    </tr>\n",
              "    <tr>\n",
              "      <th>5996</th>\n",
              "      <td>5996</td>\n",
              "      <td>11.0</td>\n",
              "      <td>Available at the same time of year, every year.</td>\n",
              "      <td>Our barley wine is what would be considered an...</td>\n",
              "      <td>NaN</td>\n",
              "      <td>30.0</td>\n",
              "      <td>N</td>\n",
              "      <td>Barbieswine</td>\n",
              "      <td>1.085</td>\n",
              "      <td>20</td>\n",
              "      <td>20</td>\n",
              "    </tr>\n",
              "    <tr>\n",
              "      <th>5997</th>\n",
              "      <td>5997</td>\n",
              "      <td>5.2</td>\n",
              "      <td>Available year round as a staple beer.</td>\n",
              "      <td>Our version of a west coast pale ale pushes th...</td>\n",
              "      <td>Pint</td>\n",
              "      <td>45.0</td>\n",
              "      <td>N</td>\n",
              "      <td>Canuck Pale Ale</td>\n",
              "      <td>1.044</td>\n",
              "      <td>8</td>\n",
              "      <td>8</td>\n",
              "    </tr>\n",
              "    <tr>\n",
              "      <th>5998</th>\n",
              "      <td>5998</td>\n",
              "      <td>6.2</td>\n",
              "      <td>Limited availability.</td>\n",
              "      <td>Aquarius White IPA combines the phenolic and e...</td>\n",
              "      <td>NaN</td>\n",
              "      <td>50.0</td>\n",
              "      <td>N</td>\n",
              "      <td>Aquarius</td>\n",
              "      <td>1.044</td>\n",
              "      <td>2</td>\n",
              "      <td>2</td>\n",
              "    </tr>\n",
              "    <tr>\n",
              "      <th>5999</th>\n",
              "      <td>5999</td>\n",
              "      <td>5.1</td>\n",
              "      <td>Available year round as a staple beer.</td>\n",
              "      <td>NaN</td>\n",
              "      <td>NaN</td>\n",
              "      <td>23.0</td>\n",
              "      <td>N</td>\n",
              "      <td>Amber Ale</td>\n",
              "      <td>1.048</td>\n",
              "      <td>15</td>\n",
              "      <td>15</td>\n",
              "    </tr>\n",
              "  </tbody>\n",
              "</table>\n",
              "<p>6000 rows × 11 columns</p>\n",
              "</div>\n",
              "      <button class=\"colab-df-convert\" onclick=\"convertToInteractive('df-9d58c848-b23f-4645-a380-b0cd7f1a2e52')\"\n",
              "              title=\"Convert this dataframe to an interactive table.\"\n",
              "              style=\"display:none;\">\n",
              "        \n",
              "  <svg xmlns=\"http://www.w3.org/2000/svg\" height=\"24px\"viewBox=\"0 0 24 24\"\n",
              "       width=\"24px\">\n",
              "    <path d=\"M0 0h24v24H0V0z\" fill=\"none\"/>\n",
              "    <path d=\"M18.56 5.44l.94 2.06.94-2.06 2.06-.94-2.06-.94-.94-2.06-.94 2.06-2.06.94zm-11 1L8.5 8.5l.94-2.06 2.06-.94-2.06-.94L8.5 2.5l-.94 2.06-2.06.94zm10 10l.94 2.06.94-2.06 2.06-.94-2.06-.94-.94-2.06-.94 2.06-2.06.94z\"/><path d=\"M17.41 7.96l-1.37-1.37c-.4-.4-.92-.59-1.43-.59-.52 0-1.04.2-1.43.59L10.3 9.45l-7.72 7.72c-.78.78-.78 2.05 0 2.83L4 21.41c.39.39.9.59 1.41.59.51 0 1.02-.2 1.41-.59l7.78-7.78 2.81-2.81c.8-.78.8-2.07 0-2.86zM5.41 20L4 18.59l7.72-7.72 1.47 1.35L5.41 20z\"/>\n",
              "  </svg>\n",
              "      </button>\n",
              "      \n",
              "  <style>\n",
              "    .colab-df-container {\n",
              "      display:flex;\n",
              "      flex-wrap:wrap;\n",
              "      gap: 12px;\n",
              "    }\n",
              "\n",
              "    .colab-df-convert {\n",
              "      background-color: #E8F0FE;\n",
              "      border: none;\n",
              "      border-radius: 50%;\n",
              "      cursor: pointer;\n",
              "      display: none;\n",
              "      fill: #1967D2;\n",
              "      height: 32px;\n",
              "      padding: 0 0 0 0;\n",
              "      width: 32px;\n",
              "    }\n",
              "\n",
              "    .colab-df-convert:hover {\n",
              "      background-color: #E2EBFA;\n",
              "      box-shadow: 0px 1px 2px rgba(60, 64, 67, 0.3), 0px 1px 3px 1px rgba(60, 64, 67, 0.15);\n",
              "      fill: #174EA6;\n",
              "    }\n",
              "\n",
              "    [theme=dark] .colab-df-convert {\n",
              "      background-color: #3B4455;\n",
              "      fill: #D2E3FC;\n",
              "    }\n",
              "\n",
              "    [theme=dark] .colab-df-convert:hover {\n",
              "      background-color: #434B5C;\n",
              "      box-shadow: 0px 1px 3px 1px rgba(0, 0, 0, 0.15);\n",
              "      filter: drop-shadow(0px 1px 2px rgba(0, 0, 0, 0.3));\n",
              "      fill: #FFFFFF;\n",
              "    }\n",
              "  </style>\n",
              "\n",
              "      <script>\n",
              "        const buttonEl =\n",
              "          document.querySelector('#df-9d58c848-b23f-4645-a380-b0cd7f1a2e52 button.colab-df-convert');\n",
              "        buttonEl.style.display =\n",
              "          google.colab.kernel.accessAllowed ? 'block' : 'none';\n",
              "\n",
              "        async function convertToInteractive(key) {\n",
              "          const element = document.querySelector('#df-9d58c848-b23f-4645-a380-b0cd7f1a2e52');\n",
              "          const dataTable =\n",
              "            await google.colab.kernel.invokeFunction('convertToInteractive',\n",
              "                                                     [key], {});\n",
              "          if (!dataTable) return;\n",
              "\n",
              "          const docLinkHtml = 'Like what you see? Visit the ' +\n",
              "            '<a target=\"_blank\" href=https://colab.research.google.com/notebooks/data_table.ipynb>data table notebook</a>'\n",
              "            + ' to learn more about interactive tables.';\n",
              "          element.innerHTML = '';\n",
              "          dataTable['output_type'] = 'display_data';\n",
              "          await google.colab.output.renderOutput(dataTable, element);\n",
              "          const docLink = document.createElement('div');\n",
              "          docLink.innerHTML = docLinkHtml;\n",
              "          element.appendChild(docLink);\n",
              "        }\n",
              "      </script>\n",
              "    </div>\n",
              "  </div>\n",
              "  "
            ]
          },
          "metadata": {},
          "execution_count": 9
        }
      ]
    },
    {
      "cell_type": "code",
      "source": [
        "beer_test = pd.read_csv(data_dir + \"beer_test.csv\")\n",
        "beer_test[\"srm_quant\"] = beer_train[\"srm\"].map(lambda x: 41 if x == \"Over 40\" else int(x))\n",
        "beer_test.head()"
      ],
      "metadata": {
        "colab": {
          "base_uri": "https://localhost:8080/",
          "height": 206
        },
        "id": "0nfuJneH-XkK",
        "outputId": "418b2828-3cc0-4325-e31c-539db758d45f"
      },
      "execution_count": 10,
      "outputs": [
        {
          "output_type": "execute_result",
          "data": {
            "text/plain": [
              "     id   abv                               available  \\\n",
              "0  6000  10.0                   Limited availability.   \n",
              "1  6001   5.2  Available year round as a staple beer.   \n",
              "2  6002   4.0     Available during the winter months.   \n",
              "3  6003  10.2  Available year round as a staple beer.   \n",
              "4  6004   6.0                   Limited availability.   \n",
              "\n",
              "                                         description  glass  ibu isOrganic  \\\n",
              "0  A classic Belgian Trappist style strong ale wi...  Tulip  NaN         N   \n",
              "1  An American-style of Pale Ale brewed with a ba...   Pint  NaN         N   \n",
              "2  This amber wheat ale has a balanced malt body,...  Tulip  NaN         Y   \n",
              "3  A uniquely large beer developed by taking our ...   Pint  NaN         N   \n",
              "4         An American red ale with crisp hop flavor.    NaN  NaN         N   \n",
              "\n",
              "                           name  originalGravity srm  srm_quant  \n",
              "0                     She WILL!            1.084  17          8  \n",
              "1    Defender American Pale Ale            1.044  22         35  \n",
              "2                         Hazel            1.036  19         10  \n",
              "3  Cinderella’s Twin Double IPA            1.087  11          5  \n",
              "4              Independence Ale            1.048  14          3  "
            ],
            "text/html": [
              "\n",
              "  <div id=\"df-4bd40e68-f837-4ec0-8bf0-86c030167110\">\n",
              "    <div class=\"colab-df-container\">\n",
              "      <div>\n",
              "<style scoped>\n",
              "    .dataframe tbody tr th:only-of-type {\n",
              "        vertical-align: middle;\n",
              "    }\n",
              "\n",
              "    .dataframe tbody tr th {\n",
              "        vertical-align: top;\n",
              "    }\n",
              "\n",
              "    .dataframe thead th {\n",
              "        text-align: right;\n",
              "    }\n",
              "</style>\n",
              "<table border=\"1\" class=\"dataframe\">\n",
              "  <thead>\n",
              "    <tr style=\"text-align: right;\">\n",
              "      <th></th>\n",
              "      <th>id</th>\n",
              "      <th>abv</th>\n",
              "      <th>available</th>\n",
              "      <th>description</th>\n",
              "      <th>glass</th>\n",
              "      <th>ibu</th>\n",
              "      <th>isOrganic</th>\n",
              "      <th>name</th>\n",
              "      <th>originalGravity</th>\n",
              "      <th>srm</th>\n",
              "      <th>srm_quant</th>\n",
              "    </tr>\n",
              "  </thead>\n",
              "  <tbody>\n",
              "    <tr>\n",
              "      <th>0</th>\n",
              "      <td>6000</td>\n",
              "      <td>10.0</td>\n",
              "      <td>Limited availability.</td>\n",
              "      <td>A classic Belgian Trappist style strong ale wi...</td>\n",
              "      <td>Tulip</td>\n",
              "      <td>NaN</td>\n",
              "      <td>N</td>\n",
              "      <td>She WILL!</td>\n",
              "      <td>1.084</td>\n",
              "      <td>17</td>\n",
              "      <td>8</td>\n",
              "    </tr>\n",
              "    <tr>\n",
              "      <th>1</th>\n",
              "      <td>6001</td>\n",
              "      <td>5.2</td>\n",
              "      <td>Available year round as a staple beer.</td>\n",
              "      <td>An American-style of Pale Ale brewed with a ba...</td>\n",
              "      <td>Pint</td>\n",
              "      <td>NaN</td>\n",
              "      <td>N</td>\n",
              "      <td>Defender American Pale Ale</td>\n",
              "      <td>1.044</td>\n",
              "      <td>22</td>\n",
              "      <td>35</td>\n",
              "    </tr>\n",
              "    <tr>\n",
              "      <th>2</th>\n",
              "      <td>6002</td>\n",
              "      <td>4.0</td>\n",
              "      <td>Available during the winter months.</td>\n",
              "      <td>This amber wheat ale has a balanced malt body,...</td>\n",
              "      <td>Tulip</td>\n",
              "      <td>NaN</td>\n",
              "      <td>Y</td>\n",
              "      <td>Hazel</td>\n",
              "      <td>1.036</td>\n",
              "      <td>19</td>\n",
              "      <td>10</td>\n",
              "    </tr>\n",
              "    <tr>\n",
              "      <th>3</th>\n",
              "      <td>6003</td>\n",
              "      <td>10.2</td>\n",
              "      <td>Available year round as a staple beer.</td>\n",
              "      <td>A uniquely large beer developed by taking our ...</td>\n",
              "      <td>Pint</td>\n",
              "      <td>NaN</td>\n",
              "      <td>N</td>\n",
              "      <td>Cinderella’s Twin Double IPA</td>\n",
              "      <td>1.087</td>\n",
              "      <td>11</td>\n",
              "      <td>5</td>\n",
              "    </tr>\n",
              "    <tr>\n",
              "      <th>4</th>\n",
              "      <td>6004</td>\n",
              "      <td>6.0</td>\n",
              "      <td>Limited availability.</td>\n",
              "      <td>An American red ale with crisp hop flavor.</td>\n",
              "      <td>NaN</td>\n",
              "      <td>NaN</td>\n",
              "      <td>N</td>\n",
              "      <td>Independence Ale</td>\n",
              "      <td>1.048</td>\n",
              "      <td>14</td>\n",
              "      <td>3</td>\n",
              "    </tr>\n",
              "  </tbody>\n",
              "</table>\n",
              "</div>\n",
              "      <button class=\"colab-df-convert\" onclick=\"convertToInteractive('df-4bd40e68-f837-4ec0-8bf0-86c030167110')\"\n",
              "              title=\"Convert this dataframe to an interactive table.\"\n",
              "              style=\"display:none;\">\n",
              "        \n",
              "  <svg xmlns=\"http://www.w3.org/2000/svg\" height=\"24px\"viewBox=\"0 0 24 24\"\n",
              "       width=\"24px\">\n",
              "    <path d=\"M0 0h24v24H0V0z\" fill=\"none\"/>\n",
              "    <path d=\"M18.56 5.44l.94 2.06.94-2.06 2.06-.94-2.06-.94-.94-2.06-.94 2.06-2.06.94zm-11 1L8.5 8.5l.94-2.06 2.06-.94-2.06-.94L8.5 2.5l-.94 2.06-2.06.94zm10 10l.94 2.06.94-2.06 2.06-.94-2.06-.94-.94-2.06-.94 2.06-2.06.94z\"/><path d=\"M17.41 7.96l-1.37-1.37c-.4-.4-.92-.59-1.43-.59-.52 0-1.04.2-1.43.59L10.3 9.45l-7.72 7.72c-.78.78-.78 2.05 0 2.83L4 21.41c.39.39.9.59 1.41.59.51 0 1.02-.2 1.41-.59l7.78-7.78 2.81-2.81c.8-.78.8-2.07 0-2.86zM5.41 20L4 18.59l7.72-7.72 1.47 1.35L5.41 20z\"/>\n",
              "  </svg>\n",
              "      </button>\n",
              "      \n",
              "  <style>\n",
              "    .colab-df-container {\n",
              "      display:flex;\n",
              "      flex-wrap:wrap;\n",
              "      gap: 12px;\n",
              "    }\n",
              "\n",
              "    .colab-df-convert {\n",
              "      background-color: #E8F0FE;\n",
              "      border: none;\n",
              "      border-radius: 50%;\n",
              "      cursor: pointer;\n",
              "      display: none;\n",
              "      fill: #1967D2;\n",
              "      height: 32px;\n",
              "      padding: 0 0 0 0;\n",
              "      width: 32px;\n",
              "    }\n",
              "\n",
              "    .colab-df-convert:hover {\n",
              "      background-color: #E2EBFA;\n",
              "      box-shadow: 0px 1px 2px rgba(60, 64, 67, 0.3), 0px 1px 3px 1px rgba(60, 64, 67, 0.15);\n",
              "      fill: #174EA6;\n",
              "    }\n",
              "\n",
              "    [theme=dark] .colab-df-convert {\n",
              "      background-color: #3B4455;\n",
              "      fill: #D2E3FC;\n",
              "    }\n",
              "\n",
              "    [theme=dark] .colab-df-convert:hover {\n",
              "      background-color: #434B5C;\n",
              "      box-shadow: 0px 1px 3px 1px rgba(0, 0, 0, 0.15);\n",
              "      filter: drop-shadow(0px 1px 2px rgba(0, 0, 0, 0.3));\n",
              "      fill: #FFFFFF;\n",
              "    }\n",
              "  </style>\n",
              "\n",
              "      <script>\n",
              "        const buttonEl =\n",
              "          document.querySelector('#df-4bd40e68-f837-4ec0-8bf0-86c030167110 button.colab-df-convert');\n",
              "        buttonEl.style.display =\n",
              "          google.colab.kernel.accessAllowed ? 'block' : 'none';\n",
              "\n",
              "        async function convertToInteractive(key) {\n",
              "          const element = document.querySelector('#df-4bd40e68-f837-4ec0-8bf0-86c030167110');\n",
              "          const dataTable =\n",
              "            await google.colab.kernel.invokeFunction('convertToInteractive',\n",
              "                                                     [key], {});\n",
              "          if (!dataTable) return;\n",
              "\n",
              "          const docLinkHtml = 'Like what you see? Visit the ' +\n",
              "            '<a target=\"_blank\" href=https://colab.research.google.com/notebooks/data_table.ipynb>data table notebook</a>'\n",
              "            + ' to learn more about interactive tables.';\n",
              "          element.innerHTML = '';\n",
              "          dataTable['output_type'] = 'display_data';\n",
              "          await google.colab.output.renderOutput(dataTable, element);\n",
              "          const docLink = document.createElement('div');\n",
              "          docLink.innerHTML = docLinkHtml;\n",
              "          element.appendChild(docLink);\n",
              "        }\n",
              "      </script>\n",
              "    </div>\n",
              "  </div>\n",
              "  "
            ]
          },
          "metadata": {},
          "execution_count": 10
        }
      ]
    },
    {
      "cell_type": "markdown",
      "metadata": {
        "id": "aEBlEDxWY8Dl"
      },
      "source": [
        "## Question 1\n",
        "Let's see how the distance metric, the scaling method, and the model influence prediction accuracy. \n",
        "\n",
        "Consider only the *physical* features. Train a **20**-nearest-neighbor model to predict **ibu**. Try fitting models with different distance metrics and scaling methods. \n",
        "\n",
        "Which distance metric and/or scaling method gives the best prediction accuracy? Why do you think that might be?"
      ]
    },
    {
      "cell_type": "code",
      "source": [
        "import numpy as np\n",
        "from sklearn.pipeline import make_pipeline\n",
        "from sklearn.preprocessing import StandardScaler\n",
        "from sklearn.neighbors import KNeighborsRegressor\n",
        "\n",
        "pipeline = make_pipeline(\n",
        "          StandardScaler(),\n",
        "          KNeighborsRegressor(n_neighbors=20, metric=\"euclidean\")\n",
        ")\n",
        "\n",
        "pipeline.fit(X=beer_train[[\"abv\", \"originalGravity\", \"srm_quant\"]], y=beer_train[\"ibu\"])\n",
        "beer_train_predicts_euc_p_std = pipeline.predict(beer_train[[\"abv\", \"originalGravity\", \"srm_quant\"]])\n",
        "rmse_euc_p_std = np.sqrt(np.mean((beer_train_predicts_euc_p_std - beer_train[\"ibu\"])**2))\n",
        "rmse_euc_p_std"
      ],
      "metadata": {
        "colab": {
          "base_uri": "https://localhost:8080/"
        },
        "id": "AWWBRTNI_VlE",
        "outputId": "6470ff01-b741-47e7-f723-0966fd10174c"
      },
      "execution_count": 11,
      "outputs": [
        {
          "output_type": "execute_result",
          "data": {
            "text/plain": [
              "21.488684506944036"
            ]
          },
          "metadata": {},
          "execution_count": 11
        }
      ]
    },
    {
      "cell_type": "code",
      "source": [
        "from sklearn.preprocessing import Normalizer\n",
        "\n",
        "pipeline = make_pipeline(\n",
        "          Normalizer(),\n",
        "          KNeighborsRegressor(n_neighbors=20, metric=\"euclidean\")\n",
        ")\n",
        "\n",
        "pipeline.fit(X=beer_train[[\"abv\", \"originalGravity\", \"srm_quant\"]], y=beer_train[\"ibu\"])\n",
        "beer_train_predicts_euc_p_norm = pipeline.predict(beer_train[[\"abv\", \"originalGravity\", \"srm_quant\"]])\n",
        "rmse_euc_p_norm = np.sqrt(np.mean((beer_train_predicts_euc_p_norm - beer_train[\"ibu\"])**2))\n",
        "rmse_euc_p_norm"
      ],
      "metadata": {
        "colab": {
          "base_uri": "https://localhost:8080/"
        },
        "id": "Kccn4bJppgg0",
        "outputId": "0875fe6c-d91f-4be5-e3bc-8cd64a4b965c"
      },
      "execution_count": 12,
      "outputs": [
        {
          "output_type": "execute_result",
          "data": {
            "text/plain": [
              "23.06072629247143"
            ]
          },
          "metadata": {},
          "execution_count": 12
        }
      ]
    },
    {
      "cell_type": "code",
      "source": [
        "pipeline = make_pipeline(\n",
        "          StandardScaler(),\n",
        "          KNeighborsRegressor(n_neighbors=20, metric=\"manhattan\")\n",
        ")\n",
        "\n",
        "pipeline.fit(X=beer_train[[\"abv\", \"originalGravity\", \"srm_quant\"]], y=beer_train[\"ibu\"])\n",
        "beer_train_predicts_man_p_std = pipeline.predict(beer_train[[\"abv\", \"originalGravity\", \"srm_quant\"]])\n",
        "rmse_man_p_std = np.sqrt(np.mean((beer_train_predicts_man_p_std - beer_train[\"ibu\"])**2))\n",
        "rmse_man_p_std"
      ],
      "metadata": {
        "colab": {
          "base_uri": "https://localhost:8080/"
        },
        "id": "r3l4ML1OqQ2X",
        "outputId": "7ac2b400-3585-4e5b-9ad9-6f6a6894dfd9"
      },
      "execution_count": 13,
      "outputs": [
        {
          "output_type": "execute_result",
          "data": {
            "text/plain": [
              "21.157374503435793"
            ]
          },
          "metadata": {},
          "execution_count": 13
        }
      ]
    },
    {
      "cell_type": "code",
      "source": [
        "pipeline = make_pipeline(\n",
        "          Normalizer(),\n",
        "          KNeighborsRegressor(n_neighbors=20, metric=\"manhattan\")\n",
        ")\n",
        "\n",
        "pipeline.fit(X=beer_train[[\"abv\", \"originalGravity\", \"srm_quant\"]], y=beer_train[\"ibu\"])\n",
        "beer_train_predicts_man_p_norm = pipeline.predict(beer_train[[\"abv\", \"originalGravity\", \"srm_quant\"]])\n",
        "rmse_man_p_norm = np.sqrt(np.mean((beer_train_predicts_man_p_norm - beer_train[\"ibu\"])**2))\n",
        "rmse_man_p_norm"
      ],
      "metadata": {
        "colab": {
          "base_uri": "https://localhost:8080/"
        },
        "id": "2lGJDByuq3Nv",
        "outputId": "3ce686f8-e45c-48e7-9ba5-f5ad883b5eb9"
      },
      "execution_count": 14,
      "outputs": [
        {
          "output_type": "execute_result",
          "data": {
            "text/plain": [
              "23.097738903581902"
            ]
          },
          "metadata": {},
          "execution_count": 14
        }
      ]
    },
    {
      "cell_type": "markdown",
      "source": [
        "It seems like the standardizer gives a better prediction accuracy. This could be because standardizing tends to work better with outlier values."
      ],
      "metadata": {
        "id": "F0cp09VcnE5_"
      }
    },
    {
      "cell_type": "markdown",
      "metadata": {
        "id": "8O3DcQAYGYtq"
      },
      "source": [
        "## Question 2\n",
        "\n",
        "Repeat Question 1, this time using the *cultural* features."
      ]
    },
    {
      "cell_type": "code",
      "source": [
        "X_train = pd.get_dummies(beer_train[[\"available\", \"glass\"]])"
      ],
      "metadata": {
        "id": "wpxNiKAGXE7g"
      },
      "execution_count": 15,
      "outputs": []
    },
    {
      "cell_type": "code",
      "source": [
        "pipeline = make_pipeline(\n",
        "          StandardScaler(),\n",
        "          KNeighborsRegressor(n_neighbors=20, metric=\"euclidean\")\n",
        ")\n",
        "\n",
        "pipeline.fit(X=X_train, y=beer_train[\"ibu\"])\n",
        "beer_train_predicts_euc_c_std = pipeline.predict(X_train)\n",
        "rmse_euc_c_std = np.sqrt(np.mean((beer_train_predicts_euc_c_std - beer_train[\"ibu\"])**2))\n",
        "rmse_euc_c_std"
      ],
      "metadata": {
        "colab": {
          "base_uri": "https://localhost:8080/"
        },
        "id": "_l6-fpY9YWuU",
        "outputId": "1ca40fd5-e914-4c94-966e-51fefa8e6f94"
      },
      "execution_count": 16,
      "outputs": [
        {
          "output_type": "execute_result",
          "data": {
            "text/plain": [
              "28.36235247556609"
            ]
          },
          "metadata": {},
          "execution_count": 16
        }
      ]
    },
    {
      "cell_type": "code",
      "source": [
        "pipeline = make_pipeline(\n",
        "          StandardScaler(),\n",
        "          KNeighborsRegressor(n_neighbors=20, metric=\"manhattan\")\n",
        ")\n",
        "\n",
        "pipeline.fit(X=X_train, y=beer_train[\"ibu\"])\n",
        "beer_train_predicts_man_c_std = pipeline.predict(X_train)\n",
        "rmse_man_c_std = np.sqrt(np.mean((beer_train_predicts_man_c_std - beer_train[\"ibu\"])**2))\n",
        "rmse_man_c_std"
      ],
      "metadata": {
        "colab": {
          "base_uri": "https://localhost:8080/"
        },
        "id": "8ehjw82Ch6Th",
        "outputId": "d1342e31-5659-411d-b601-3965b9a5d38c"
      },
      "execution_count": 17,
      "outputs": [
        {
          "output_type": "execute_result",
          "data": {
            "text/plain": [
              "28.322524824376387"
            ]
          },
          "metadata": {},
          "execution_count": 17
        }
      ]
    },
    {
      "cell_type": "code",
      "source": [
        "pipeline = make_pipeline(\n",
        "          Normalizer(),\n",
        "          KNeighborsRegressor(n_neighbors=20, metric=\"euclidean\")\n",
        ")\n",
        "\n",
        "pipeline.fit(X=X_train, y=beer_train[\"ibu\"])\n",
        "beer_train_predicts_euc_c_norm = pipeline.predict(X_train)\n",
        "rmse_euc_c_norm = np.sqrt(np.mean((beer_train_predicts_euc_c_norm - beer_train[\"ibu\"])**2))\n",
        "rmse_euc_c_norm"
      ],
      "metadata": {
        "colab": {
          "base_uri": "https://localhost:8080/"
        },
        "id": "y09Mm7qXiCHJ",
        "outputId": "83c3e970-e216-49da-8eaf-71f0f766808b"
      },
      "execution_count": 18,
      "outputs": [
        {
          "output_type": "execute_result",
          "data": {
            "text/plain": [
              "28.77022554699036"
            ]
          },
          "metadata": {},
          "execution_count": 18
        }
      ]
    },
    {
      "cell_type": "code",
      "source": [
        "pipeline = make_pipeline(\n",
        "          Normalizer(),\n",
        "          KNeighborsRegressor(n_neighbors=20, metric=\"manhattan\")\n",
        ")\n",
        "\n",
        "pipeline.fit(X=X_train, y=beer_train[\"ibu\"])\n",
        "beer_train_predicts_man_c_norm = pipeline.predict(X_train)\n",
        "rmse_man_c_norm = np.sqrt(np.mean((beer_train_predicts_man_c_norm - beer_train[\"ibu\"])**2))\n",
        "rmse_man_c_norm"
      ],
      "metadata": {
        "colab": {
          "base_uri": "https://localhost:8080/"
        },
        "id": "TXuRndUsie4z",
        "outputId": "9aed6cd1-63e3-48ac-b649-c772b0a5bb82"
      },
      "execution_count": 19,
      "outputs": [
        {
          "output_type": "execute_result",
          "data": {
            "text/plain": [
              "28.82081337988188"
            ]
          },
          "metadata": {},
          "execution_count": 19
        }
      ]
    },
    {
      "cell_type": "markdown",
      "source": [
        "The rmse values are now all really close so it is hard to say if one if better than the others. They are also higher than the values when we used physical factors, this could be because of less factors used or less possible values since they are dummy variables."
      ],
      "metadata": {
        "id": "GxIsIiIqoeI4"
      }
    },
    {
      "cell_type": "markdown",
      "metadata": {
        "id": "vgaFvqueY8Dc"
      },
      "source": [
        "## Question 3\n",
        "\n",
        "Finally, repeat Question 1, using *all* the features."
      ]
    },
    {
      "cell_type": "code",
      "source": [
        "X_train = pd.get_dummies(beer_train[[\"available\", \"glass\", \"abv\", \"originalGravity\", \"srm_quant\"]])"
      ],
      "metadata": {
        "id": "8Sr9o5QOixDP"
      },
      "execution_count": 20,
      "outputs": []
    },
    {
      "cell_type": "code",
      "source": [
        "pipeline = make_pipeline(\n",
        "          StandardScaler(),\n",
        "          KNeighborsRegressor(n_neighbors=20, metric=\"euclidean\")\n",
        ")\n",
        "\n",
        "pipeline.fit(X=X_train, y=beer_train[\"ibu\"])\n",
        "beer_train_predicts_euc_b_std = pipeline.predict(X_train)\n",
        "rmse_euc_b_std = np.sqrt(np.mean((beer_train_predicts_euc_b_std - beer_train[\"ibu\"])**2))\n",
        "rmse_euc_b_std"
      ],
      "metadata": {
        "colab": {
          "base_uri": "https://localhost:8080/"
        },
        "id": "z4VlJ6qDjDUP",
        "outputId": "85fb6250-c125-4133-ceab-dee3a390c1db"
      },
      "execution_count": 21,
      "outputs": [
        {
          "output_type": "execute_result",
          "data": {
            "text/plain": [
              "22.519230953447774"
            ]
          },
          "metadata": {},
          "execution_count": 21
        }
      ]
    },
    {
      "cell_type": "code",
      "source": [
        "pipeline = make_pipeline(\n",
        "          StandardScaler(),\n",
        "          KNeighborsRegressor(n_neighbors=20, metric=\"manhattan\")\n",
        ")\n",
        "\n",
        "pipeline.fit(X=X_train, y=beer_train[\"ibu\"])\n",
        "beer_train_predicts_man_b_std = pipeline.predict(X_train)\n",
        "rmse_man_b_std = np.sqrt(np.mean((beer_train_predicts_man_b_std - beer_train[\"ibu\"])**2))\n",
        "rmse_man_b_std"
      ],
      "metadata": {
        "colab": {
          "base_uri": "https://localhost:8080/"
        },
        "id": "gzIaSCxzjIsP",
        "outputId": "043b31f9-20d5-4bdc-b97d-fdeeee7a7b0c"
      },
      "execution_count": 22,
      "outputs": [
        {
          "output_type": "execute_result",
          "data": {
            "text/plain": [
              "22.136424168684055"
            ]
          },
          "metadata": {},
          "execution_count": 22
        }
      ]
    },
    {
      "cell_type": "code",
      "source": [
        "pipeline = make_pipeline(\n",
        "          Normalizer(),\n",
        "          KNeighborsRegressor(n_neighbors=20, metric=\"euclidean\")\n",
        ")\n",
        "\n",
        "pipeline.fit(X=X_train, y=beer_train[\"ibu\"])\n",
        "beer_train_predicts_euc_b_norm = pipeline.predict(X_train)\n",
        "rmse_euc_b_norm = np.sqrt(np.mean((beer_train_predicts_euc_b_norm - beer_train[\"ibu\"])**2))\n",
        "rmse_euc_b_norm"
      ],
      "metadata": {
        "colab": {
          "base_uri": "https://localhost:8080/"
        },
        "id": "XDCf6ArSjP_b",
        "outputId": "5f5edc20-5f9b-492c-bdf1-f175cc48a867"
      },
      "execution_count": 23,
      "outputs": [
        {
          "output_type": "execute_result",
          "data": {
            "text/plain": [
              "23.537310399404383"
            ]
          },
          "metadata": {},
          "execution_count": 23
        }
      ]
    },
    {
      "cell_type": "code",
      "source": [
        "pipeline = make_pipeline(\n",
        "          Normalizer(),\n",
        "          KNeighborsRegressor(n_neighbors=20, metric=\"manhattan\")\n",
        ")\n",
        "\n",
        "pipeline.fit(X=X_train, y=beer_train[\"ibu\"])\n",
        "beer_train_predicts_man_b_norm = pipeline.predict(X_train)\n",
        "rmse_man_b_norm = np.sqrt(np.mean((beer_train_predicts_man_b_norm - beer_train[\"ibu\"])**2))\n",
        "rmse_man_b_norm"
      ],
      "metadata": {
        "colab": {
          "base_uri": "https://localhost:8080/"
        },
        "id": "9_xTI8yejb_2",
        "outputId": "a9edd2d4-3f4f-47ce-c98b-5152d0d6c11a"
      },
      "execution_count": 24,
      "outputs": [
        {
          "output_type": "execute_result",
          "data": {
            "text/plain": [
              "23.101868918197216"
            ]
          },
          "metadata": {},
          "execution_count": 24
        }
      ]
    },
    {
      "cell_type": "markdown",
      "source": [
        "The standard scaler again performs slightly better. It appears to perform slightly better with manhattan distance, although this may not be significant. Interestingly, our numbers not quite as good as same metrics with the physical features only."
      ],
      "metadata": {
        "id": "x0Omfa-do_25"
      }
    },
    {
      "cell_type": "markdown",
      "metadata": {
        "id": "J_uFz0BaY8Ds"
      },
      "source": [
        "## Question 4\n",
        "\n",
        "Finally, let's determine the right value of $k$. Use the set of features, the distance metric, and the scaling method that you determined to be best (for $k=20$ nearest neighbors model) in Question 4. Fit $k$-nearest neighbor models for different values of $k$. Plot the training error and the estimated test error as functions of $k$, and determine the optimal value of $k$."
      ]
    },
    {
      "cell_type": "markdown",
      "source": [
        "Because it gave us the best results in our training metrics, we will use standard scaler, manhattan distance, and only the physical features for our models."
      ],
      "metadata": {
        "id": "gIa61BFGpwxP"
      }
    },
    {
      "cell_type": "code",
      "source": [
        "beer_train_subset = beer_train.loc[:5000].copy()\n",
        "beer_test_subset = beer_train.loc[5000:].copy()"
      ],
      "metadata": {
        "id": "NWz1Y09227ZG"
      },
      "execution_count": 32,
      "outputs": []
    },
    {
      "cell_type": "code",
      "source": [
        "from sklearn.metrics import mean_squared_error\n",
        "model_accuracy = pd.DataFrame(columns=[\"K\", \"Train rmse\", \"Test rmse\"])\n",
        "for k in range(2, 40, 2):\n",
        "  pipeline = make_pipeline(\n",
        "          StandardScaler(),\n",
        "          KNeighborsRegressor(n_neighbors=k, metric=\"manhattan\")\n",
        "  )\n",
        "\n",
        "  pipeline.fit(X=beer_train_subset[[\"abv\", \"originalGravity\", \"srm_quant\"]], y=beer_train_subset[\"ibu\"])\n",
        "  beer_train_predicts = pipeline.predict(beer_train_subset[[\"abv\", \"originalGravity\", \"srm_quant\"]])\n",
        "  rmse_train = np.sqrt(mean_squared_error(beer_train_subset[\"ibu\"], beer_train_predicts))\n",
        "\n",
        "  beer_test_predicts = pipeline.predict(beer_test_subset[[\"abv\", \"originalGravity\", \"srm_quant\"]])\n",
        "  rmse_test = np.sqrt(mean_squared_error(beer_test_subset[\"ibu\"], beer_test_predicts))\n",
        "\n",
        "  model_accuracy = model_accuracy.append({\"K\": k, \"Train rmse\": rmse_train, \"Test rmse\": rmse_test}, ignore_index=True)"
      ],
      "metadata": {
        "id": "QJh_96__qDmP"
      },
      "execution_count": 35,
      "outputs": []
    },
    {
      "cell_type": "code",
      "source": [
        "import matplotlib.pyplot as plt\n",
        "train_plot = model_accuracy.plot.scatter(x=\"K\", y=\"Train rmse\")\n"
      ],
      "metadata": {
        "colab": {
          "base_uri": "https://localhost:8080/",
          "height": 279
        },
        "id": "SUHy5Zm6r9QZ",
        "outputId": "0c689a6e-935f-4fbb-81f9-52445c3ff099"
      },
      "execution_count": 42,
      "outputs": [
        {
          "output_type": "display_data",
          "data": {
            "text/plain": [
              "<Figure size 432x288 with 1 Axes>"
            ],
            "image/png": "[encoded data removed]"
          },
          "metadata": {
            "needs_background": "light"
          }
        }
      ]
    },
    {
      "cell_type": "code",
      "source": [
        "test_plot = model_accuracy.plot.scatter(x=\"K\", y=\"Test rmse\", c=\"red\")\n"
      ],
      "metadata": {
        "colab": {
          "base_uri": "https://localhost:8080/",
          "height": 279
        },
        "id": "rQKumdCJ-AnE",
        "outputId": "0ec03d69-d6b8-4cab-a245-b7951062ef85"
      },
      "execution_count": 41,
      "outputs": [
        {
          "output_type": "display_data",
          "data": {
            "text/plain": [
              "<Figure size 432x288 with 1 Axes>"
            ],
            "image/png": "[encoded data removed]"
          },
          "metadata": {
            "needs_background": "light"
          }
        }
      ]
    },
    {
      "cell_type": "markdown",
      "source": [
        "It looks like the optimal value of K is 10, using the test data. The optimal value of K appears to be 2 with the training data, but this make sense because since we are predicting on the training data itself, as we include more neighbors it will get less accurate. For this reason, it is much better to use the test metrics."
      ],
      "metadata": {
        "id": "AAxv3TjFs49S"
      }
    },
    {
      "cell_type": "markdown",
      "metadata": {
        "id": "qhRFqKSDY8D2"
      },
      "source": [
        "## Submission Instructions\n",
        "\n",
        "- Copy this notebook to your own Drive, if you have not already.\n",
        "- Restart this notebook and run the cells from beginning to end. \n",
        "  - Go to Runtime > Restart and Run All.\n",
        "- Rename this notebook by clicking on \"DATA 301 Lab 4 - YOUR NAMES HERE\" at the very top of this page. Replace \"YOUR NAMES HERE\" with the first and last names of you (and your partners, for Phase 2).\n",
        "- Get the link to your notebook:\n",
        "  - Click on \"Share\" at the top-right. \n",
        "  - Change the settings to \"Anyone with the link can view\". \n",
        "  - Copy the sharing link into Canvas."
      ]
    }
  ]
}